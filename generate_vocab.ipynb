{
 "cells": [
  {
   "cell_type": "code",
   "execution_count": null,
   "metadata": {},
   "outputs": [],
   "source": [
    "import os\n",
    "import sys\n",
    "import pprint\n",
    "\n",
    "input_description_file = './data/results_20130124.token'\n",
    "output_vocab_file = './data/vocab.txt'\n",
    "\n",
    "def count_vocab(input_description_file):\n",
    "    \"\"\"Generate vocabulary.\n",
    "    In addition, count distrubution of length of sentence \n",
    "    and max length of image discription\"\"\"\n",
    "    with open(input_description_file, 'r') as f:\n",
    "        lines = f.readlines()\n",
    "    max_length_of_sentence = 0\n",
    "    vocab_dict = {}\n",
    "    length_dict = {}\n",
    "    for line in lines:\n",
    "        image_id, description = line.strip('\\t\\n').split('\\t')\n",
    "        words = description.strip(' ').split()\n",
    "        for word in words:\n",
    "            vocab_dict.setdefault(word, 0)\n",
    "            vocab_dict[word] += 1\n",
    "        max_length_of_sentence = max(max_length_of_sentence, len(words))\n",
    "        length_dict.setdefault(len(words), 0)\n",
    "        length_dict[len(words)] += 1\n",
    "    print(max_length_of_sentence)\n",
    "    pprint.pprint(length_dict)\n",
    "    return vocab_dict\n",
    "\n",
    "vocab_dict = count_vocab(input_description_file)\n"
   ]
  },
  {
   "cell_type": "code",
   "execution_count": null,
   "metadata": {},
   "outputs": [],
   "source": [
    "sorted_dict = sorted(vocab_dict.items(),\n",
    "                     key = lambda d:d[1],\n",
    "                     reverse = True)\n",
    "with open(output_vocab_file, 'w') as f:\n",
    "    f.write(\"<UNK>\\t10000000\\n\")\n",
    "    for item in sorted_dict:\n",
    "        f.write('%s\\t%d\\n' % item)"
   ]
  },
  {
   "cell_type": "code",
   "execution_count": null,
   "metadata": {},
   "outputs": [],
   "source": []
  }
 ],
 "metadata": {
  "kernelspec": {
   "display_name": "Python 3",
   "language": "python",
   "name": "python3"
  },
  "language_info": {
   "codemirror_mode": {
    "name": "ipython",
    "version": 3
   },
   "file_extension": ".py",
   "mimetype": "text/x-python",
   "name": "python",
   "nbconvert_exporter": "python",
   "pygments_lexer": "ipython3",
   "version": "3.5.2"
  }
 },
 "nbformat": 4,
 "nbformat_minor": 2
}
